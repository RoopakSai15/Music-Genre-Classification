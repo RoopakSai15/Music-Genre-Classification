{
 "cells": [
  {
   "cell_type": "code",
   "execution_count": 1,
   "id": "7c5ae3cb",
   "metadata": {},
   "outputs": [],
   "source": [
    "from python_speech_features import mfcc\n",
    "import scipy.io.wavfile as wav\n",
    "import numpy as np\n",
    "\n",
    "from tempfile import TemporaryFile\n",
    "import os\n",
    "import pickle\n",
    "import random \n",
    "import operator\n",
    "\n",
    "import math\n",
    "import numpy as np"
   ]
  },
  {
   "cell_type": "code",
   "execution_count": 2,
   "id": "3c0effa0",
   "metadata": {},
   "outputs": [],
   "source": [
    "def getNeighbors(trainingSet, instance, k):\n",
    "    distances = []\n",
    "    for x in range (len(trainingSet)):\n",
    "        dist = distance(trainingSet[x], instance, k )+ distance(instance, trainingSet[x], k)\n",
    "        distances.append((trainingSet[x][2], dist))\n",
    "    distances.sort(key=operator.itemgetter(1))\n",
    "    neighbors = []\n",
    "    for x in range(k):\n",
    "        neighbors.append(distances[x][0])\n",
    "    return neighbors"
   ]
  },
  {
   "cell_type": "code",
   "execution_count": 3,
   "id": "367429c7",
   "metadata": {},
   "outputs": [],
   "source": [
    "def nearestClass(neighbors):\n",
    "    classVote = {}\n",
    "\n",
    "    for x in range(len(neighbors)):\n",
    "        response = neighbors[x]\n",
    "        if response in classVote:\n",
    "            classVote[response]+=1 \n",
    "        else:\n",
    "            classVote[response]=1\n",
    "\n",
    "    sorter = sorted(classVote.items(), key = operator.itemgetter(1), reverse=True)\n",
    "    return sorter[0][0]"
   ]
  },
  {
   "cell_type": "code",
   "execution_count": 4,
   "id": "0d51a5e6",
   "metadata": {},
   "outputs": [],
   "source": [
    "def getAccuracy(testSet, predictions):\n",
    "    if not testSet:\n",
    "        return 0.0  # Handle the case where testSet is empty\n",
    "\n",
    "    correct = 0\n",
    "    for x in range(len(testSet)):\n",
    "        if testSet[x][-1] == predictions[x]:\n",
    "            correct += 1\n",
    "    return 1.0 * correct / len(testSet)\n"
   ]
  },
  {
   "cell_type": "code",
   "execution_count": 5,
   "id": "c50119d2",
   "metadata": {
    "scrolled": true
   },
   "outputs": [],
   "source": [
    "directory = r\"C:\\Users\\USER\\New folder\\Untitled Folder\\Data\\genres_original\\\\\"\n",
    "f= open(\"my.dat\" ,'wb')\n",
    "i=0\n",
    "\n",
    "for folder in os.listdir(directory):\n",
    "    i+=1\n",
    "    if i==11 :\n",
    "        break   \n",
    "    folder_path = os.path.join(directory, folder)\n",
    "    if os.path.isdir(folder_path):\n",
    "        for file in os.listdir(folder_path):\n",
    "            if file.endswith(\".wav\"):\n",
    "                file_path = os.path.join(folder_path, file)\n",
    "                (rate, sig) = wav.read(file_path)\n",
    "                (rate,sig) = wav.read(directory+folder+\"\\\\\"+file)\n",
    "                mfcc_feat = mfcc(sig,rate ,winlen=0.020, appendEnergy = False)\n",
    "                covariance = np.cov(np.matrix.transpose(mfcc_feat))\n",
    "                mean_matrix = mfcc_feat.mean(0)\n",
    "                feature = (mean_matrix , covariance , i)\n",
    "                pickle.dump(feature , f)\n",
    "\n",
    "f.close()"
   ]
  },
  {
   "cell_type": "code",
   "execution_count": 6,
   "id": "ad612a6b",
   "metadata": {},
   "outputs": [],
   "source": [
    "dataset = []\n",
    "def loadDataset(filename , split , trSet , teSet):\n",
    "    with open(\"my.dat\" , 'rb') as f:\n",
    "        while True:\n",
    "            try:\n",
    "                dataset.append(pickle.load(f))\n",
    "            except EOFError:\n",
    "                f.close()\n",
    "                break  \n",
    "\n",
    "    for x in range(len(dataset)):\n",
    "        if random.random() <split :      \n",
    "            trSet.append(dataset[x])\n",
    "        else:\n",
    "            teSet.append(dataset[x])  \n",
    "\n",
    "trainingSet = []\n",
    "testSet = []\n",
    "loadDataset(\"my.dat\" , 0.66, trainingSet, testSet)"
   ]
  },
  {
   "cell_type": "code",
   "execution_count": 7,
   "id": "4e120349",
   "metadata": {},
   "outputs": [],
   "source": [
    "def distance(instance1 , instance2 , k ):\n",
    "    distance =0 \n",
    "    mm1 = instance1[0] \n",
    "    cm1 = instance1[1]\n",
    "    mm2 = instance2[0]\n",
    "    cm2 = instance2[1]\n",
    "    distance = np.trace(np.dot(np.linalg.inv(cm2), cm1)) \n",
    "    distance+=(np.dot(np.dot((mm2-mm1).transpose() , np.linalg.inv(cm2)) , mm2-mm1 )) \n",
    "    distance+= np.log(np.linalg.det(cm2)) - np.log(np.linalg.det(cm1))\n",
    "    distance-= k\n",
    "    return distance"
   ]
  },
  {
   "cell_type": "code",
   "execution_count": 8,
   "id": "867b329d",
   "metadata": {},
   "outputs": [
    {
     "name": "stdout",
     "output_type": "stream",
     "text": [
      "0.6865203761755486\n"
     ]
    }
   ],
   "source": [
    "leng = len(testSet)\n",
    "predictions = []\n",
    "for x in range (leng):\n",
    "    predictions.append(nearestClass(getNeighbors(trainingSet ,testSet[x] , 5))) \n",
    "\n",
    "accuracy1 = getAccuracy(testSet , predictions)\n",
    "print(accuracy1)"
   ]
  },
  {
   "cell_type": "code",
   "execution_count": 10,
   "id": "c548ae62",
   "metadata": {},
   "outputs": [],
   "source": [
    "from collections import defaultdict\n",
    "results = defaultdict(int)"
   ]
  },
  {
   "cell_type": "code",
   "execution_count": null,
   "id": "41f1502b",
   "metadata": {},
   "outputs": [],
   "source": []
  }
 ],
 "metadata": {
  "kernelspec": {
   "display_name": "Python 3 (ipykernel)",
   "language": "python",
   "name": "python3"
  },
  "language_info": {
   "codemirror_mode": {
    "name": "ipython",
    "version": 3
   },
   "file_extension": ".py",
   "mimetype": "text/x-python",
   "name": "python",
   "nbconvert_exporter": "python",
   "pygments_lexer": "ipython3",
   "version": "3.9.13"
  }
 },
 "nbformat": 4,
 "nbformat_minor": 5
}
